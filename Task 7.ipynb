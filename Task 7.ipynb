{
 "cells": [
  {
   "cell_type": "code",
   "execution_count": 11,
   "metadata": {},
   "outputs": [
    {
     "name": "stdout",
     "output_type": "stream",
     "text": [
      "month and time is: 2024-03-16 08:38:44.855692\n",
      "Timestamp is: 1710558524.855692\n"
     ]
    }
   ],
   "source": [
    "from datetime import datetime\n",
    "# Getting the current month and time\n",
    "dt = datetime.now()\n",
    "ts = datetime.timestamp(dt)\n",
    "print(\"month and time is:\", dt)\n",
    "print(\"Timestamp is:\", ts)"
   ]
  },
  {
   "cell_type": "code",
   "execution_count": 23,
   "metadata": {},
   "outputs": [
    {
     "name": "stdout",
     "output_type": "stream",
     "text": [
      "timestamp: 1710559046.0326529\n"
     ]
    }
   ],
   "source": [
    "import time\n",
    "#current timestamp\n",
    "ROBEE=time.time()\n",
    "print(\"timestamp:\",ROBEE)\n",
    "\n"
   ]
  }
 ],
 "metadata": {
  "kernelspec": {
   "display_name": "Python 3",
   "language": "python",
   "name": "python3"
  },
  "language_info": {
   "codemirror_mode": {
    "name": "ipython",
    "version": 3
   },
   "file_extension": ".py",
   "mimetype": "text/x-python",
   "name": "python",
   "nbconvert_exporter": "python",
   "pygments_lexer": "ipython3",
   "version": "3.12.2"
  }
 },
 "nbformat": 4,
 "nbformat_minor": 2
}
